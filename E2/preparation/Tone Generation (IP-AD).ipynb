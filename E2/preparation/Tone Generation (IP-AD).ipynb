{
 "cells": [
  {
   "cell_type": "code",
   "execution_count": 1,
   "metadata": {
    "scrolled": true
   },
   "outputs": [],
   "source": [
    "import numpy as np\n",
    "import librosa as lba\n",
    "import soundfile as sf\n",
    "from random import random"
   ]
  },
  {
   "cell_type": "code",
   "execution_count": 2,
   "metadata": {},
   "outputs": [],
   "source": [
    "stimuli_folder = '../stimuli/'\n",
    "\n",
    "sr = 44100\n",
    "tone_duration = 250\n",
    "\n",
    "rise_duration = 10\n",
    "rise_length = int(rise_duration * sr / 1000)\n",
    "\n",
    "perc_duration = 240\n",
    "perc_length = int(perc_duration * sr / 1000)\n",
    "\n",
    "fade_duration = 10\n",
    "fade_length = int(fade_duration * sr / 1000)\n",
    "\n",
    "# Determine frequencies of tones up to 100 cents above and below A4 by multiplying or dividing by 2^(n/1200), where n is the number of cents\n",
    "tones = {'A4-%i' % n: 440 / 2**(n/1200) for n in range(1, 101, 1)} | {'A4': 440} | {'A4+%i' % n: 440 * 2**(n/1200) for n in range(1, 101, 1)}"
   ]
  },
  {
   "cell_type": "markdown",
   "metadata": {},
   "source": [
    "# Generate Tones"
   ]
  },
  {
   "cell_type": "code",
   "execution_count": 3,
   "metadata": {},
   "outputs": [],
   "source": [
    "for pitch in tones:\n",
    "\n",
    "    f = tones[pitch]\n",
    "    \n",
    "    # Generate fundamental frequency (co)sine wave\n",
    "    tone = lba.tone(f, sr=sr, duration=tone_duration / 1000)\n",
    "\n",
    "    # Add first three harmonics (up to 2 octaves above) with slope of -3 db/half amplitude per octave\n",
    "    for i in range(3):\n",
    "        phase = random() * 2 * np.pi\n",
    "        tone += lba.tone(f * (i + 2), sr=sr, duration=tone_duration / 1000, phi=phase) / (i + 2)\n",
    "\n",
    "    # Apply exponential fade to create percussive envelope\n",
    "    tone[-perc_length:] *= np.geomspace(1, .01, perc_length)\n",
    "    # Apply short linear fade to ending so that amplitude fades to 0\n",
    "    tone[-fade_length:] *= np.linspace(1, 0, fade_length)\n",
    "    # Apply sharp linear rise to start of tone\n",
    "    tone[:rise_length] *= np.linspace(0, 1, rise_length)\n",
    "\n",
    "    # Rescale waveform to range [-1, 1] to prevent clipping\n",
    "    tone /= np.abs(tone).max()\n",
    "    \n",
    "    # Save tone\n",
    "    sf.write('../stimuli/tones/tone%s.wav' % pitch, tone, 44100)"
   ]
  }
 ],
 "metadata": {
  "kernelspec": {
   "display_name": "Python 3 (ipykernel)",
   "language": "python",
   "name": "python3"
  },
  "language_info": {
   "codemirror_mode": {
    "name": "ipython",
    "version": 3
   },
   "file_extension": ".py",
   "mimetype": "text/x-python",
   "name": "python",
   "nbconvert_exporter": "python",
   "pygments_lexer": "ipython3",
   "version": "3.7.11"
  }
 },
 "nbformat": 4,
 "nbformat_minor": 4
}
