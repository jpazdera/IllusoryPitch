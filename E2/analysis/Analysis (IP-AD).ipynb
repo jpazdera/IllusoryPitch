{
 "cells": [
  {
   "cell_type": "markdown",
   "id": "fe692622",
   "metadata": {},
   "source": [
    "# Analysis of Illusory Pitch Study"
   ]
  },
  {
   "cell_type": "code",
   "execution_count": 5,
   "id": "c51a5741",
   "metadata": {
    "tags": []
   },
   "outputs": [],
   "source": [
    "import numpy as np\n",
    "import pandas as pd\n",
    "import seaborn as sns\n",
    "import scipy.stats as stats\n",
    "import matplotlib.pylab as plt\n",
    "\n",
    "# Excluded participants\n",
    "EXCLUDED = [21]\n",
    "TRIAL_DATAFILE = '../data/response_data.csv'\n",
    "SCORES_DATAFILE = '../data/scores.csv'\n",
    "FITS_DATAFILE = '../data/fits.csv'\n",
    "FIGURE_PATH = './figures/'"
   ]
  },
  {
   "cell_type": "code",
   "execution_count": 2,
   "id": "3db76f84d464e6f0",
   "metadata": {
    "tags": []
   },
   "outputs": [],
   "source": [
    "THEME = 'light'\n",
    "\n",
    "# Set line widths and marker sizes\n",
    "lw = 1.5\n",
    "capsize = 3\n",
    "msize = 7\n",
    "\n",
    "# Set colors for light and dark versions of figures\n",
    "if THEME == 'dark':\n",
    "    background_color = '#151619'\n",
    "    text_color = 'w'\n",
    "    color1 = '#90E6E2'\n",
    "    color2 = '#FAB2B9'\n",
    "elif THEME == 'light':\n",
    "    background_color = 'w'\n",
    "    text_color = 'k'\n",
    "    color1 = '#512D6D'\n",
    "    color2 = '#F8485E'\n",
    "else:\n",
    "    raise ValueError('Theme not recognized - must be one of \"light\" or \"dark\".')\n",
    "\n",
    "plt.rcParams.update({\n",
    "    # BACKGROUND\n",
    "    'figure.facecolor': background_color,\n",
    "    'axes.facecolor': background_color,\n",
    "    'savefig.facecolor': background_color,\n",
    "\n",
    "    # TEXT\n",
    "    'text.color': text_color,\n",
    "    'axes.labelcolor': text_color,\n",
    "    'xtick.color': text_color,\n",
    "    'ytick.color': text_color,\n",
    "    'figure.titlesize': 20,  # fontsize of the figure title\n",
    "    'axes.titlesize': 20,\n",
    "    'axes.labelsize': 16,  # fontsize of the x and y labels\n",
    "    'xtick.labelsize': 12,  # fontsize of the tick labels\n",
    "    'ytick.labelsize': 12,  # fontsize of the tick labels\n",
    "    'legend.fontsize': 12,  # legend fontsize\n",
    "    'legend.title_fontsize': 14,  # legend title size\n",
    "    'font.size': 12,  # text size\n",
    "\n",
    "    # FIGURE STYLE\n",
    "    'axes.spines.top': False,\n",
    "    'axes.spines.right': False,\n",
    "    'axes.spines.left': True,\n",
    "    'axes.spines.bottom': True,\n",
    "    'axes.edgecolor': text_color,\n",
    "    'axes.grid': False,\n",
    "    'ytick.left': True,\n",
    "    'xtick.bottom': True\n",
    "})"
   ]
  },
  {
   "cell_type": "code",
   "execution_count": 6,
   "id": "2e920cbe-ba83-456a-b233-4a6f74cdee25",
   "metadata": {
    "tags": []
   },
   "outputs": [
    {
     "name": "stdout",
     "output_type": "stream",
     "text": [
      "Subject 21 did not perform above chance (acc=0.4583, p=0.9124)!\n",
      "Min correct: 134\n",
      "Min accuracy: 0.5583333333333333\n"
     ]
    }
   ],
   "source": [
    "EXCLUDED = []\n",
    "data = pd.read_csv(TRIAL_DATAFILE)\n",
    "\n",
    "for i, subj in enumerate(data.subject.unique()):\n",
    "    subj_data = data[data.subject == subj]\n",
    "    num_correct = subj_data.correct.sum()\n",
    "    num_possible = len(subj_data)\n",
    "    if num_possible != 240:\n",
    "        raise ValueError('Number of trials with nonzero offset should be 288. Subject %s has %i.' % (subj, num_possible))\n",
    "    p = stats.binomtest(num_correct, n=num_possible, p=.5, alternative='greater').pvalue\n",
    "    if p >= .05:\n",
    "        print('Subject %s did not perform above chance (acc=%.4f, p=%.4f)!' % (subj, num_correct / num_possible, p))\n",
    "        EXCLUDED.append(subj)\n",
    "\n",
    "i = -1\n",
    "p = 1\n",
    "while p >= .05:\n",
    "    i += 1\n",
    "    p = stats.binomtest(i, n=240, p=.5, alternative='greater').pvalue\n",
    "print('Min correct:', i)\n",
    "print('Min accuracy:', i/240)"
   ]
  },
  {
   "cell_type": "markdown",
   "id": "29d694b0",
   "metadata": {},
   "source": [
    "### Load and preprocess data"
   ]
  },
  {
   "cell_type": "code",
   "execution_count": null,
   "id": "d28a355e",
   "metadata": {},
   "outputs": [],
   "source": [
    "scores = pd.read_csv(SCORES_DATAFILE)\n",
    "print('Count: %i' % len(np.unique(scores.subject)))\n",
    "print('v1.1 Count: %i' % len(np.unique(scores.subject[scores.version >= 1.1])))\n",
    "scores = scores[scores.version >= 1.1]\n",
    "scores = scores[~np.isin(scores.subject, EXCLUDED)]\n",
    "\n",
    "# Load linear fits of bias\n",
    "fits = pd.read_csv(FITS_DATAFILE)\n",
    "fits = fits[fits.version >= 1.1]\n",
    "fits = fits[~np.isin(fits.subject, EXCLUDED)]\n",
    "\n",
    "# Loftus & Masson (1994) method of plotting within-subject effects (for C and dprime)\n",
    "subj_means = scores.groupby(['subject']).mean().reset_index()\n",
    "grand_mean = subj_means.mean()\n",
    "within_scores = scores.copy()\n",
    "for i, subj in enumerate(subj_means.subject):\n",
    "    within_scores.loc[within_scores.subject == subj, 'dprime'] -= subj_means.dprime[i] - grand_mean.dprime\n",
    "    within_scores.loc[within_scores.subject == subj, 'C'] -= subj_means.C[i] - grand_mean.C\n",
    "\n",
    "# Stagger the x-axis values so error bars will be easier to read\n",
    "within_scores.loc[within_scores.shift_size == 1.0, 'interval'] -= 2\n",
    "within_scores.loc[within_scores.shift_size == 0.5, 'interval'] += 2"
   ]
  },
  {
   "cell_type": "markdown",
   "id": "81bc8a75",
   "metadata": {},
   "source": [
    "### Effect of Difficulty on Sensitivity"
   ]
  },
  {
   "cell_type": "code",
   "execution_count": null,
   "id": "eef77219b0a39762",
   "metadata": {},
   "outputs": [],
   "source": [
    "# Plot average d' per condition\n",
    "sns.lineplot(x='interval', y='dprime', hue='shift_size', data=within_scores,\n",
    "             hue_order=[1.0, 0.5], palette=[color1, color2],\n",
    "             marker='o', markersize=msize, ls='-', lw=lw,\n",
    "             err_style='bars', err_kws=dict(capsize=capsize, lw=lw, capthick=lw))\n",
    "\n",
    "# Sylize subplot\n",
    "plt.axhline(0, ls='--', c='k', alpha=.5)\n",
    "plt.legend(['JND', '$1/2*$JND'], title='Pitch Shift', framealpha=1, loc='lower left')\n",
    "plt.ylabel('Sensitivity ($d\\prime$)')\n",
    "plt.xlabel('Probe Timing Offset')\n",
    "plt.xticks([425, 500, 575], ['15% Early', 'On Beat', '15% Late'])\n",
    "plt.ylim(-0.5, 3)\n",
    "\n",
    "# Stylize figure and save\n",
    "plt.gcf().set_size_inches(4.5, 4)\n",
    "plt.tight_layout()\n",
    "plt.gcf().savefig('figures/dprime2.svg')"
   ]
  },
  {
   "cell_type": "markdown",
   "id": "757705d16105f6e8",
   "metadata": {},
   "source": [
    "### Effect of Timing and Difficulty on Bias"
   ]
  },
  {
   "cell_type": "code",
   "execution_count": null,
   "id": "31583f68",
   "metadata": {},
   "outputs": [],
   "source": [
    "grid = plt.GridSpec(1, 2, width_ratios=[2, 1.2])\n",
    "\n",
    "###\n",
    "# C\n",
    "###\n",
    "\n",
    "plt.subplot(grid[0])\n",
    "\n",
    "# Plot average C per condition\n",
    "sns.lineplot(x='interval', y='C', hue='shift_size', data=within_scores,\n",
    "             hue_order=[1.0, 0.5], palette=[color1, color2],\n",
    "             marker='o', markersize=msize, ls='-', lw=lw,\n",
    "             err_style='bars', err_kws=dict(capsize=capsize, lw=lw, capthick=lw))\n",
    "\n",
    "# Stylize subplot\n",
    "plt.axhline(0, ls='--', c='k', alpha=.5, zorder=1)\n",
    "plt.legend(['JND', '$1/2*$JND'], title='Pitch Shift', framealpha=1, loc='upper left')\n",
    "plt.ylabel('Bias ($C$) Towards \"Low\"')\n",
    "plt.xlabel('Probe Timing Offset')\n",
    "plt.xticks([425, 500, 575], ['15% Early', 'On Beat', '15% Late'])\n",
    "plt.ylim(-.4, .4)\n",
    "\n",
    "###\n",
    "# Timing-Induced Bias\n",
    "###\n",
    "\n",
    "plt.subplot(grid[1])\n",
    "\n",
    "sns.boxplot(x='shift_size', y='C_slope', data=fits[fits.shift_size != 'pooled'], order=['1', '0.5'], palette=[color1, color2])\n",
    "shift_map = {'1': 0, '0.5': 1}\n",
    "for s in fits.subject.unique():\n",
    "    sfits = fits[(fits.subject == s) & (fits.shift_size != 'pooled')]\n",
    "    sns.lineplot(x=[shift_map[x] for x in sfits.shift_size], y='C_slope', data=sfits,\n",
    "                 color=text_color, alpha=.3, marker='o', ms=msize, lw=lw)\n",
    "plt.axhline(0, ls='--', alpha=.5, color=text_color)\n",
    "\n",
    "plt.text(.3, .042, '$n.s.$', fontsize=14)\n",
    "plt.plot([0, 1], [.04, .04], c=text_color)\n",
    "plt.plot([0, 0], [.038, .04], c=text_color)\n",
    "plt.plot([1, 1], [.038, .04], c=text_color)\n",
    "\n",
    "plt.xlabel('Pitch Shift')\n",
    "plt.ylabel('Timing-Induced Bias')\n",
    "plt.xticks([0, 1], ['JND', '$1/2*$JND'])\n",
    "plt.ylim(-.04, .05)\n",
    "\n",
    "# Stylize figure and save\n",
    "plt.gcf().set_size_inches(8, 4.25)\n",
    "plt.tight_layout()\n",
    "plt.gcf().savefig('figures/bias2.svg', dpi=150)"
   ]
  },
  {
   "cell_type": "markdown",
   "id": "5d4e8bba-2d1b-4b51-be4b-2dd808f777af",
   "metadata": {},
   "source": [
    "### Correlation Between Change in d' and Change in Timing-Induced Bias"
   ]
  },
  {
   "cell_type": "code",
   "execution_count": null,
   "id": "e2e9fa76-cb5b-4e91-a902-06b6cc0e11f9",
   "metadata": {},
   "outputs": [],
   "source": [
    "d_diff = np.array(fits.loc[fits.shift_size=='0.5', 'dprime'])-np.array(fits.loc[fits.shift_size=='1', 'dprime'])\n",
    "cs_diff = np.array(fits.loc[fits.shift_size=='0.5', 'C_slope'])-np.array(fits.loc[fits.shift_size=='1', 'C_slope'])\n",
    "\n",
    "sns.regplot(x=d_diff, y=cs_diff, color=text_color)\n",
    "plt.axhline(y=0, linestyle='--', color=text_color, alpha=.5)\n",
    "plt.axvline(x=0, linestyle='--', color=text_color, alpha=.5)\n",
    "r, p = stats.pearsonr(d_diff, cs_diff)\n",
    "plt.text(-2.33, -.0375, '$r=%.03f$, $p=%.03f$' % (r, p), fontsize=14)\n",
    "plt.xlabel('Difficulty-Based Change in $d^\\prime$')\n",
    "plt.ylabel('Change in Timing-Induced Bias')\n",
    "plt.ylim(-.04, .04)\n",
    "plt.gcf().set_size_inches(6, 4.5)\n",
    "plt.tight_layout()\n",
    "plt.savefig(FIGURE_PATH + 'ddiff_correlation.svg')"
   ]
  },
  {
   "cell_type": "markdown",
   "id": "99fa0ccad4e8e72a",
   "metadata": {},
   "source": [
    "### Plot correlation between JND and timing-induced bias"
   ]
  },
  {
   "cell_type": "code",
   "execution_count": null,
   "id": "10e666f9b5d1e0f9",
   "metadata": {},
   "outputs": [],
   "source": [
    "# Load linear fits of bias at the person's JND\n",
    "fits = pd.read_csv(FITS_DATAFILE)\n",
    "#fits = fits[fits.version >= 1.1]\n",
    "fits = fits[~np.isin(fits.subject, EXCLUDED)]\n",
    "#fits = fits[fits.shift_size == 'pooled']\n",
    "fits = fits[fits.shift_size == '1']"
   ]
  },
  {
   "cell_type": "code",
   "execution_count": null,
   "id": "2cf1e43ff97f6c49",
   "metadata": {},
   "outputs": [],
   "source": [
    "sns.regplot(x='jnd', y='C_slope', data=fits, color=text_color)\n",
    "plt.axhline(y=0, linestyle='--', color=text_color, alpha=.5)\n",
    "r, p = stats.pearsonr(fits.jnd, fits.C_slope)\n",
    "plt.text(26, -.027, '$r=%.03f$, $p=%.03f$' % (r, p), fontsize=14)\n",
    "plt.xlabel('Just-Noticeable Difference (Cents)')\n",
    "plt.ylabel('Timing-Induced Bias')\n",
    "plt.ylim(-.03, .04)\n",
    "plt.gcf().set_size_inches(6, 4.5)\n",
    "plt.tight_layout()\n",
    "plt.savefig(FIGURE_PATH + 'jnd_correlation.svg')"
   ]
  },
  {
   "cell_type": "code",
   "execution_count": null,
   "id": "5c95288c-a96e-4492-aa59-0e354a4b4d1e",
   "metadata": {},
   "outputs": [],
   "source": []
  }
 ],
 "metadata": {
  "kernelspec": {
   "display_name": "Python 3 (ipykernel)",
   "language": "python",
   "name": "python3"
  },
  "language_info": {
   "codemirror_mode": {
    "name": "ipython",
    "version": 3
   },
   "file_extension": ".py",
   "mimetype": "text/x-python",
   "name": "python",
   "nbconvert_exporter": "python",
   "pygments_lexer": "ipython3",
   "version": "3.10.11"
  }
 },
 "nbformat": 4,
 "nbformat_minor": 5
}
