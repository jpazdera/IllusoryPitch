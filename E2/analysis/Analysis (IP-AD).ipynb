{
 "cells": [
  {
   "cell_type": "markdown",
   "id": "fe692622",
   "metadata": {},
   "source": [
    "# Analysis of Illusory Pitch Study"
   ]
  },
  {
   "cell_type": "code",
   "id": "c51a5741",
   "metadata": {},
   "source": [
    "import numpy as np\n",
    "import pandas as pd\n",
    "import seaborn as sns\n",
    "import scipy.stats as stats\n",
    "import matplotlib.pylab as plt\n",
    "\n",
    "# Excluded participants\n",
    "EXCLUDED = [21]\n",
    "SCORES_DATAFILE = '../data/scores.csv'\n",
    "FITS_DATAFILE = '../data/fits.csv'\n",
    "FIGURE_PATH = './figures/'"
   ],
   "outputs": [],
   "execution_count": null
  },
  {
   "metadata": {},
   "cell_type": "code",
   "source": [
    "THEME = 'light'\n",
    "\n",
    "# Set line widths and marker sizes\n",
    "lw = 1.5\n",
    "capsize = 3\n",
    "msize = 7\n",
    "\n",
    "# Set colors for light and dark versions of figures\n",
    "if THEME == 'dark':\n",
    "    background_color = '#151619'\n",
    "    text_color = 'w'\n",
    "    color1 = '#90E6E2'\n",
    "    color2 = '#FAB2B9'\n",
    "elif THEME == 'light':\n",
    "    background_color = 'w'\n",
    "    text_color = 'k'\n",
    "    color1 = '#512D6D'\n",
    "    color2 = '#F8485E'\n",
    "else:\n",
    "    raise ValueError('Theme not recognized - must be one of \"light\" or \"dark\".')\n",
    "\n",
    "plt.rcParams.update({\n",
    "    # BACKGROUND\n",
    "    'figure.facecolor': background_color,\n",
    "    'axes.facecolor': background_color,\n",
    "    'savefig.facecolor': background_color,\n",
    "\n",
    "    # TEXT\n",
    "    'text.color': text_color,\n",
    "    'axes.labelcolor': text_color,\n",
    "    'xtick.color': text_color,\n",
    "    'ytick.color': text_color,\n",
    "    'figure.titlesize': 20,  # fontsize of the figure title\n",
    "    'axes.titlesize': 20,\n",
    "    'axes.labelsize': 16,  # fontsize of the x and y labels\n",
    "    'xtick.labelsize': 12,  # fontsize of the tick labels\n",
    "    'ytick.labelsize': 12,  # fontsize of the tick labels\n",
    "    'legend.fontsize': 12,  # legend fontsize\n",
    "    'legend.title_fontsize': 14,  # legend title size\n",
    "    'font.size': 12,  # text size\n",
    "\n",
    "    # FIGURE STYLE\n",
    "    'axes.spines.top': False,\n",
    "    'axes.spines.right': False,\n",
    "    'axes.spines.left': True,\n",
    "    'axes.spines.bottom': True,\n",
    "    'axes.edgecolor': text_color,\n",
    "    'axes.grid': False,\n",
    "    'ytick.left': True,\n",
    "    'xtick.bottom': True\n",
    "})"
   ],
   "id": "3db76f84d464e6f0",
   "outputs": [],
   "execution_count": null
  },
  {
   "cell_type": "markdown",
   "id": "29d694b0",
   "metadata": {},
   "source": "### Load and preprocess data"
  },
  {
   "cell_type": "code",
   "id": "d28a355e",
   "metadata": {},
   "source": [
    "scores = pd.read_csv(SCORES_DATAFILE)\n",
    "print('Count: %i' % len(np.unique(scores.subject)))\n",
    "print('v1.1 Count: %i' % len(np.unique(scores.subject[scores.version >= 1.1])))\n",
    "scores = scores[scores.version >= 1.1]\n",
    "scores = scores[~np.isin(scores.subject, EXCLUDED)]\n",
    "\n",
    "# Loftus & Masson (1994) method of plotting within-subject effects\n",
    "subj_means = scores.groupby(['subject']).mean().reset_index()\n",
    "grand_mean = subj_means.mean()\n",
    "within_scores = scores.copy()\n",
    "for i, subj in enumerate(subj_means.subject):\n",
    "    within_scores.loc[within_scores.subject == subj, 'dprime'] -= subj_means.dprime[i] - grand_mean.dprime\n",
    "    within_scores.loc[within_scores.subject == subj, 'C'] -= subj_means.C[i] - grand_mean.C\n",
    "\n",
    "# Stagger the x-axis values so error bars will be easier to read\n",
    "within_scores.loc[within_scores.shift_size == 1.0, 'interval'] -= 2\n",
    "within_scores.loc[within_scores.shift_size == 0.5, 'interval'] += 2"
   ],
   "outputs": [],
   "execution_count": null
  },
  {
   "cell_type": "markdown",
   "id": "81bc8a75",
   "metadata": {},
   "source": "### Plot bias and sensitivity"
  },
  {
   "cell_type": "code",
   "id": "31583f68",
   "metadata": {},
   "source": [
    "###\n",
    "# Bias\n",
    "###\n",
    "\n",
    "plt.subplot(121)\n",
    "\n",
    "# Plot average C per condition\n",
    "sns.lineplot(x='interval', y='C', hue='shift_size', data=within_scores,\n",
    "             hue_order=[1.0, 0.5], palette=[color1, color2],\n",
    "             marker='o', markersize=msize, ls='-', lw=lw,\n",
    "             err_style='bars', err_kws={'capsize': capsize})\n",
    "\n",
    "# Stylize subplot\n",
    "plt.axhline(0, ls='--', c='k', alpha=.5, zorder=1)\n",
    "plt.legend(['JND', '$1/2*$JND'], title='Pitch Shift', loc='lower right')\n",
    "plt.ylabel('Bias ($C$) Towards \"Low\"')\n",
    "plt.xlabel('Probe Timing Offset (%)')\n",
    "plt.xticks([425, 500, 575], ['-15', '0', '+15'])\n",
    "plt.xlim(410, 590)\n",
    "plt.ylim(-.4, .4)\n",
    "\n",
    "###\n",
    "# Sensitivity\n",
    "###\n",
    "\n",
    "plt.subplot(122)\n",
    "\n",
    "# Plot average d' per condition\n",
    "sns.lineplot(x='interval', y='dprime', hue='shift_size', data=within_scores,\n",
    "             hue_order=[1.0, 0.5], palette=[color1, color2],\n",
    "             marker='o', markersize=msize, ls='-', lw=lw,\n",
    "             err_style='bars', err_kws={'capsize': capsize})\n",
    "\n",
    "# Sylize subplot\n",
    "plt.axhline(0, ls='--', c='k', alpha=.5)\n",
    "plt.legend(['JND', '$1/2*$JND'], title='Pitch Shift', loc='lower left')\n",
    "plt.ylabel('Sensitivity ($d\\prime$)')\n",
    "plt.xlabel('Probe Timing Offset (%)')\n",
    "plt.xticks([425, 500, 575], ['-15', '0', '+15'])\n",
    "plt.xlim(410, 590)\n",
    "plt.ylim(-0.5, 3)\n",
    "\n",
    "# Stylize figure and save\n",
    "plt.gcf().set_size_inches(9, 4)\n",
    "plt.tight_layout()\n",
    "plt.gcf().savefig('figures/scores.svg', dpi=150)"
   ],
   "outputs": [],
   "execution_count": null
  },
  {
   "metadata": {},
   "cell_type": "markdown",
   "source": "### Plot correlation between JND and timing-induced bias",
   "id": "99fa0ccad4e8e72a"
  },
  {
   "metadata": {},
   "cell_type": "code",
   "source": [
    "# Load linear fits of bias at the person's JND\n",
    "fits = pd.read_csv(FITS_DATAFILE)\n",
    "fits = fits[fits.version >= 1.1]\n",
    "fits = fits[~np.isin(fits.subject, EXCLUDED)]\n",
    "fits = fits[fits.shift_size == 1]"
   ],
   "id": "10e666f9b5d1e0f9",
   "outputs": [],
   "execution_count": null
  },
  {
   "metadata": {},
   "cell_type": "code",
   "source": [
    "sns.regplot(x='jnd', y='C_slope', data=fits, color=text_color)\n",
    "plt.axhline(y=0, linestyle='--', color=text_color, alpha=.5)\n",
    "r, p = stats.pearsonr(fits.jnd, fits.C_slope)\n",
    "plt.text(27.5, -.032, '$r=%.03f$, $p=%.03f$' % (r, p))\n",
    "plt.xlabel('Just-Noticeable Difference (Cents)')\n",
    "plt.ylabel('Timing-Related Bias')\n",
    "plt.ylim(-.035, .035)\n",
    "plt.gcf().set_size_inches(6, 4.5)\n",
    "plt.tight_layout()\n",
    "plt.savefig(FIGURE_PATH + 'jnd_correlation.svg')"
   ],
   "id": "2cf1e43ff97f6c49",
   "outputs": [],
   "execution_count": null
  },
  {
   "metadata": {},
   "cell_type": "markdown",
   "source": "### Plot linear fits",
   "id": "3d8fced8d8a2338e"
  },
  {
   "cell_type": "code",
   "source": [
    "# Load linear fits of bias\n",
    "fits = pd.read_csv(FITS_DATAFILE)\n",
    "fits = fits[fits.version >= 1.1]\n",
    "fits = fits[~np.isin(fits.subject, EXCLUDED)]"
   ],
   "metadata": {
    "collapsed": false
   },
   "id": "a309e7221cd972fc",
   "outputs": [],
   "execution_count": null
  },
  {
   "metadata": {},
   "cell_type": "code",
   "source": [
    "sns.boxplot(x='shift_size', y='C_slope', data=fits, order=[1, 0.5], palette=[color1, color2])\n",
    "shift_map = {1: 0, 0.5: 1}\n",
    "for s in fits.subject.unique():\n",
    "    sns.lineplot(x=[shift_map[x] for x in fits[fits.subject == s].shift_size], y='C_slope', data=fits[fits.subject == s], \n",
    "                 color=text_color, alpha=.33, marker='o', ms=msize, lw=lw)\n",
    "plt.axhline(0, ls='--', alpha=.5, color=text_color)\n",
    "\n",
    "plt.xlabel('Pitch Shift')\n",
    "plt.ylabel('Timing-Related Bias')\n",
    "plt.xticks([0, 1], ['JND', '$1/2*$JND'])\n",
    "plt.ylim(-.04, .04)\n",
    "plt.gcf().set_size_inches(4.5, 6)\n",
    "plt.tight_layout()\n",
    "plt.savefig(FIGURE_PATH + 'fits.svg')"
   ],
   "id": "fca949bf45671f5e",
   "outputs": [],
   "execution_count": null
  },
  {
   "metadata": {},
   "cell_type": "code",
   "source": "",
   "id": "8d2dea41329eecac",
   "outputs": [],
   "execution_count": null
  }
 ],
 "metadata": {
  "kernelspec": {
   "display_name": "Python 3 (ipykernel)",
   "language": "python",
   "name": "python3"
  },
  "language_info": {
   "codemirror_mode": {
    "name": "ipython",
    "version": 3
   },
   "file_extension": ".py",
   "mimetype": "text/x-python",
   "name": "python",
   "nbconvert_exporter": "python",
   "pygments_lexer": "ipython3",
   "version": "3.10.4"
  }
 },
 "nbformat": 4,
 "nbformat_minor": 5
}
