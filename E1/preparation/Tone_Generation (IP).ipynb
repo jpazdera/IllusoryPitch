{
 "cells": [
  {
   "cell_type": "markdown",
   "source": [
    "# Tone Generation: Illusory Pitch"
   ],
   "metadata": {
    "collapsed": false
   },
   "execution_count": 1
  },
  {
   "cell_type": "code",
   "execution_count": null,
   "outputs": [],
   "source": [
    "import numpy as np\n",
    "import librosa as lba\n",
    "import soundfile as sf\n",
    "from random import random"
   ],
   "metadata": {
    "collapsed": false
   }
  },
  {
   "cell_type": "code",
   "execution_count": null,
   "metadata": {},
   "outputs": [],
   "source": [
    "stimuli_folder = '../stimuli/'\n",
    "\n",
    "sr = 44100\n",
    "tone_duration = 250\n",
    "\n",
    "rise_duration = 10\n",
    "rise_length = int(rise_duration * sr / 1000)\n",
    "\n",
    "perc_duration = 240\n",
    "perc_length = int(perc_duration * sr / 1000)\n",
    "\n",
    "fade_duration = 10\n",
    "fade_length = int(fade_duration * sr / 1000)\n",
    "\n",
    "tones = {\n",
    "\n",
    "    'A5+': 884,\n",
    "    'A5': 880,\n",
    "    'A5-': 876,\n",
    "    \n",
    "    'A4+': 446,\n",
    "    'A4': 440, # Practice trial shifts are three times as large as others\n",
    "    'A4-': 434,\n",
    "    \n",
    "    'A3+': 221,\n",
    "    'A3': 220,\n",
    "    'A3-': 219\n",
    "}"
   ]
  },
  {
   "cell_type": "markdown",
   "metadata": {},
   "source": [
    "# Generate Tones"
   ]
  },
  {
   "cell_type": "code",
   "execution_count": null,
   "metadata": {},
   "outputs": [],
   "source": [
    "for pitch in tones:\n",
    "\n",
    "    f = tones[pitch]\n",
    "    \n",
    "    # Generate fundamental frequency (co)sine wave\n",
    "    tone = lba.tone(f, sr=sr, duration=tone_duration / 1000)\n",
    "    \n",
    "    # Add first three harmonics with slope of -6 db/half amplitude per octave\n",
    "    for i in range(3):\n",
    "        phase = random() * 2 * np.pi\n",
    "        tone += lba.tone(f * (i + 2), sr=sr, duration=tone_duration / 1000, phi=phase) / (i + 2)\n",
    "    \n",
    "    # Rescale waveform to range [-1, 1] to prevent clipping\n",
    "    tone /= np.abs(tone).max()\n",
    "\n",
    "    # Apply exponential fade to create percussive envelope\n",
    "    tone[-perc_length:] *= np.geomspace(1, .01, perc_length)\n",
    "    # Apply short linear fade to ending so that amplitude fades to 0\n",
    "    tone[-fade_length:] *= np.linspace(1, 0, fade_length)\n",
    "    # Apply sharp linear rise to start of tone\n",
    "    tone[:rise_length] *= np.linspace(0, 1, rise_length)\n",
    "    \n",
    "    # Save tone\n",
    "    sf.write('../stimuli/tones/tone%s.wav' % pitch, tone, 44100)"
   ]
  },
  {
   "cell_type": "markdown",
   "metadata": {},
   "source": [
    "## (Balance tones in Audacity now, then continue below)"
   ]
  },
  {
   "cell_type": "markdown",
   "metadata": {},
   "source": [
    "# Generate Sequences"
   ]
  },
  {
   "cell_type": "code",
   "execution_count": null,
   "metadata": {},
   "outputs": [],
   "source": [
    "base_intervals = 5\n",
    "mod_intervals = 1\n",
    "ntones = base_intervals + mod_intervals + 1\n",
    "\n",
    "tempo = 500\n",
    "offsets = [-.15, 0, .15]\n",
    "\n",
    "for pitch in tones:\n",
    "\n",
    "    if '+' in pitch or '-' in pitch:\n",
    "        continue\n",
    "\n",
    "    # Load normalized tone\n",
    "    base_tone, _ = lba.load(stimuli_folder + 'tones/tone%s-normed.wav' % pitch, sr=sr)\n",
    "    \n",
    "    for shift in ('-', '+'):\n",
    "        \n",
    "        # Load probe tone\n",
    "        tone, _ = lba.load(stimuli_folder + 'tones/tone%s%s-normed.wav' % (pitch, shift), sr=sr)\n",
    "        \n",
    "        for offset in offsets:\n",
    "            \n",
    "                # Create array of appropriate length to hold audio sequence\n",
    "                ms_ioi = tempo * (1 + offset) / 1000  # Milisecond interval preceding probe tone\n",
    "                sequence = np.zeros(int(np.ceil(ntones * max(tempo / 1000, ms_ioi) * sr)), dtype=np.float32)\n",
    "\n",
    "                # Insert tones at appropriate locations\n",
    "                for i in range(ntones):\n",
    "\n",
    "                    # First several tones are spaced by the base IOI\n",
    "                    if i <= base_intervals:\n",
    "                        start = i * tempo / 1000 * sr\n",
    "                        start = int(np.ceil(start))\n",
    "\n",
    "                        # Place a copy of the tone in the proper location\n",
    "                        base_tone_end = start + base_tone.shape[0]\n",
    "                        sequence[start:base_tone_end] = base_tone\n",
    "\n",
    "                    # Final tone(s) is/are preceded by the modified IOI  \n",
    "                    else:\n",
    "                        start = sr * (((base_intervals) * tempo / 1000) + ((i - base_intervals) * ms_ioi))\n",
    "                        start = int(np.ceil(start))\n",
    "\n",
    "                        # The tone sequence ends with a click; the click sequence ends with a tone\n",
    "                        tone_end = start + tone.shape[0]\n",
    "                        sequence[start:tone_end] = tone\n",
    "\n",
    "                # Cut silence from the end of the sequence\n",
    "                sequence = np.trim_zeros(sequence, 'b')\n",
    "\n",
    "                # Save sequences to WAV file\n",
    "                sf.write(stimuli_folder + 'sequence_%s%s_%i_%i.wav' % (pitch, shift, tempo, offset * 100), sequence, sr)"
   ]
  }
 ],
 "metadata": {
  "kernelspec": {
   "display_name": "Python 3 (ipykernel)",
   "language": "python",
   "name": "python3"
  },
  "language_info": {
   "codemirror_mode": {
    "name": "ipython",
    "version": 3
   },
   "file_extension": ".py",
   "mimetype": "text/x-python",
   "name": "python",
   "nbconvert_exporter": "python",
   "pygments_lexer": "ipython3",
   "version": "3.7.11"
  }
 },
 "nbformat": 4,
 "nbformat_minor": 4
}
