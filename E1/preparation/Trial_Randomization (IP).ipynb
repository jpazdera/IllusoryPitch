{
 "cells": [
  {
   "cell_type": "markdown",
   "source": [
    "# Trial Randomization: Illusory Pitch"
   ],
   "metadata": {
    "collapsed": false
   }
  },
  {
   "cell_type": "code",
   "execution_count": null,
   "outputs": [],
   "source": [
    "import json\n",
    "import numpy as np\n",
    "from random import shuffle\n",
    "from itertools import product\n",
    "\n",
    "OCTAVES = ['3', '5']\n",
    "OFFSETS = ['-15', '0', '15']\n",
    "SHIFTS = ['+', '-']\n",
    "\n",
    "NSESS = 300  # Number of sessions per group\n",
    "NBLOCKS = 4  # Number of blocks per session"
   ],
   "metadata": {
    "collapsed": false
   }
  },
  {
   "cell_type": "code",
   "execution_count": null,
   "metadata": {},
   "outputs": [],
   "source": [
    "# Generate a block of 60 trials with a set octave\n",
    "def randomize_block(octave):\n",
    "    \n",
    "    global SHIFTS, OFFSETS\n",
    "    \n",
    "    conditions = [c for c in product(octave, SHIFTS, OFFSETS)]\n",
    "    trials = []\n",
    "    \n",
    "    for i in range(0, 10):\n",
    "        trials += conditions\n",
    "        \n",
    "    shuffle(trials)   \n",
    "\n",
    "    return trials"
   ]
  },
  {
   "cell_type": "markdown",
   "metadata": {},
   "source": [
    "# Generate Trial Schedules"
   ]
  },
  {
   "cell_type": "code",
   "execution_count": null,
   "metadata": {},
   "outputs": [],
   "source": [
    "sessions = []\n",
    "for i in range(NSESS):\n",
    "    \n",
    "    # Randomize which octave occurs first, then double for ABAB pattern\n",
    "    octave_order = ['3', '5']\n",
    "    shuffle(octave_order)\n",
    "    octave_order += octave_order\n",
    "    \n",
    "    # Generate four blocks for the session\n",
    "    blocks = []\n",
    "    for i in range(NBLOCKS):\n",
    "        new_block = randomize_block(octave_order[i])\n",
    "        blocks.append(new_block)\n",
    "    session = np.concatenate(blocks)\n",
    "    session = session.reshape((4, len(OFFSETS) * len(SHIFTS) * 10, 3))\n",
    "    \n",
    "    sessions.append(session)"
   ]
  },
  {
   "cell_type": "markdown",
   "metadata": {},
   "source": [
    "### Sanity Checks"
   ]
  },
  {
   "cell_type": "code",
   "execution_count": null,
   "metadata": {},
   "outputs": [],
   "source": [
    "for i, session in enumerate(sessions):\n",
    "    \n",
    "    # Verify session length\n",
    "    if len(session) != 4:\n",
    "        raise ValueError('Session %i has improper length!' % i)\n",
    "    else:\n",
    "        for i in range(4):\n",
    "            if len(session[i]) != 60:\n",
    "                raise ValueError('Session %i has improper length!' % i)\n",
    "    \n",
    "    # Verify condition counts\n",
    "    for octave in OCTAVES:\n",
    "        oct_mask = session[:, :, 0] == octave\n",
    "        for shift in SHIFTS:\n",
    "            shift_mask = session[:, :, 1] == shift\n",
    "            for offset in OFFSETS:\n",
    "                offset_mask = session[:, :, 2] == offset\n",
    "                trials_of_type = np.sum(oct_mask & shift_mask & offset_mask)\n",
    "                if trials_of_type != 20:\n",
    "                    raise ValueError('Session %i has %i trials of octave %s, shift %s, and offset %s!' % \n",
    "                                     (i, trials_of_type, octave, shift, offset))\n",
    "\n",
    "print('All sessions verified successfully!')"
   ]
  },
  {
   "cell_type": "markdown",
   "metadata": {},
   "source": [
    "### Save schedules"
   ]
  },
  {
   "cell_type": "code",
   "execution_count": null,
   "metadata": {},
   "outputs": [],
   "source": [
    "# Shuffle order of sessions and save\n",
    "shuffle(sessions)\n",
    "for i, session in enumerate(sessions):\n",
    "    with open('../schedules/session%i.json' % (i+1), 'w') as f:\n",
    "        json.dump(session.tolist(), f)"
   ]
  }
 ],
 "metadata": {
  "kernelspec": {
   "display_name": "Python 3 (ipykernel)",
   "language": "python",
   "name": "python3"
  },
  "language_info": {
   "codemirror_mode": {
    "name": "ipython",
    "version": 3
   },
   "file_extension": ".py",
   "mimetype": "text/x-python",
   "name": "python",
   "nbconvert_exporter": "python",
   "pygments_lexer": "ipython3",
   "version": "3.7.11"
  }
 },
 "nbformat": 4,
 "nbformat_minor": 4
}
