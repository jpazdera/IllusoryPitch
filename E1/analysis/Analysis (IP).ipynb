{
 "cells": [
  {
   "cell_type": "markdown",
   "id": "fe9592a0-9524-44a0-8272-7028ca2bca69",
   "metadata": {},
   "source": [
    "# Analysis: Illusory Pitch"
   ]
  },
  {
   "cell_type": "code",
   "execution_count": null,
   "id": "4f33d153-0e2b-49f4-9d07-a945bf9fcd5d",
   "metadata": {},
   "outputs": [],
   "source": [
    "import numpy as np\n",
    "import pandas as pd\n",
    "import seaborn as sns\n",
    "import scipy.stats as stats\n",
    "import matplotlib.pyplot as plt\n",
    "\n",
    "# Set participants to exclude\n",
    "EXCLUDED = [15, 22]\n",
    "\n",
    "# Set file paths\n",
    "TRIAL_DATAFILE = '../data/response_data.csv'\n",
    "SCORES_DATAFILE = '../data/scores.csv'\n",
    "SUBJ_SCORES_DATAFILE = '../data/subj_scores.csv'\n",
    "FIGURE_PATH = './figures/'"
   ]
  },
  {
   "cell_type": "markdown",
   "id": "818db69394058d61",
   "metadata": {},
   "source": [
    "### Define figure style"
   ]
  },
  {
   "cell_type": "code",
   "execution_count": null,
   "id": "589e828e156751dc",
   "metadata": {},
   "outputs": [],
   "source": [
    "THEME = 'light'\n",
    "\n",
    "# Set line widths and marker sizes\n",
    "lw = 1.5\n",
    "capsize = 3\n",
    "msize = 7\n",
    "\n",
    "# Set colors for light and dark versions of figures\n",
    "if THEME == 'dark':\n",
    "    background_color = '#151619'\n",
    "    text_color = 'w'\n",
    "    color1 = '#90E6E2'\n",
    "    color2 = '#FAB2B9'\n",
    "elif THEME == 'light':\n",
    "    background_color = 'w'\n",
    "    text_color = 'k'\n",
    "    color1 = '#512D6D'\n",
    "    color2 = '#F8485E'\n",
    "else:\n",
    "    raise ValueError('Theme not recognized - must be one of \"light\" or \"dark\".')\n",
    "\n",
    "plt.rcParams.update({\n",
    "    # BACKGROUND\n",
    "    'figure.facecolor': background_color,\n",
    "    'axes.facecolor': background_color,\n",
    "    'savefig.facecolor': background_color,\n",
    "\n",
    "    # TEXT\n",
    "    'text.color': text_color,\n",
    "    'axes.labelcolor': text_color,\n",
    "    'xtick.color': text_color,\n",
    "    'ytick.color': text_color,\n",
    "    'figure.titlesize': 20,  # fontsize of the figure title\n",
    "    'axes.titlesize': 20,\n",
    "    'axes.labelsize': 16,  # fontsize of the x and y labels\n",
    "    'xtick.labelsize': 12,  # fontsize of the tick labels\n",
    "    'ytick.labelsize': 12,  # fontsize of the tick labels\n",
    "    'legend.fontsize': 12,  # legend fontsize\n",
    "    'legend.title_fontsize': 14,  # legend title size\n",
    "    'font.size': 12,  # text size\n",
    "\n",
    "    # FIGURE STYLE\n",
    "    'axes.spines.top': False,\n",
    "    'axes.spines.right': False,\n",
    "    'axes.spines.left': True,\n",
    "    'axes.spines.bottom': True,\n",
    "    'axes.edgecolor': text_color,\n",
    "    'axes.grid': False,\n",
    "    'ytick.left': True,\n",
    "    'xtick.bottom': True\n",
    "})"
   ]
  },
  {
   "cell_type": "markdown",
   "id": "857332cf-6307-48b4-b0b9-d7c0ba0b88c7",
   "metadata": {},
   "source": [
    "### Load and preprocess data"
   ]
  },
  {
   "cell_type": "code",
   "execution_count": null,
   "id": "cb3d096e-0a1f-45ea-954f-5d86a738f32f",
   "metadata": {},
   "outputs": [],
   "source": [
    "# Load scores\n",
    "scores = pd.read_csv(SCORES_DATAFILE)\n",
    "scores = scores[~np.isin(scores.subject, EXCLUDED)]\n",
    "\n",
    "# Loftus & Masson (1994) method of plotting within-subject effects\n",
    "subj_means = scores.groupby(['subject']).mean().reset_index()\n",
    "grand_mean = subj_means.mean()\n",
    "within_scores = scores.copy()\n",
    "for i, subj in enumerate(subj_means.subject):\n",
    "    within_scores.loc[within_scores.subject == subj, 'dprime'] -= subj_means.dprime[i] - grand_mean.dprime\n",
    "    within_scores.loc[within_scores.subject == subj, 'C'] -= subj_means.C[i] - grand_mean.C\n",
    "\n",
    "# Stagger the x-axis values so error bars will be easier to read\n",
    "within_scores.loc[within_scores.octave == 3, 'offset'] -= .5\n",
    "within_scores.loc[within_scores.octave == 5, 'offset'] += .5"
   ]
  },
  {
   "cell_type": "markdown",
   "id": "e6bdc053-a51e-4eb3-baea-af6055ff26b1",
   "metadata": {},
   "source": [
    "### Plot bias and sensitivity"
   ]
  },
  {
   "cell_type": "code",
   "execution_count": null,
   "id": "2e39a76e-5828-4490-80f7-a3a6a393f6a8",
   "metadata": {},
   "outputs": [],
   "source": [
    "###\n",
    "# Bias\n",
    "###\n",
    "\n",
    "plt.subplot(121)\n",
    "\n",
    "# Plot average C per condition\n",
    "sns.lineplot(x='offset', y='C', hue='octave', data=within_scores,\n",
    "             hue_order=[3, 5], palette=[color1, color2],\n",
    "             ls='-', lw=lw, marker='o', ms=msize,\n",
    "             err_style='bars', err_kws=dict(capsize=capsize, lw=lw, capthick=lw))\n",
    "plt.axhline(0, ls='--', c='k', alpha=.5)\n",
    "\n",
    "\n",
    "# Stylize subplot\n",
    "plt.legend(['A3 (220 Hz)', 'A5 (880 Hz)'], title='Standard Pitch', loc='upper left', framealpha=1)\n",
    "plt.xlim(-20, 20)\n",
    "plt.xticks([-15, 0, 15], ['15% Early', 'On Time', '15% Late'])\n",
    "plt.ylim(-.6, 1)\n",
    "plt.xlabel('Probe Timing Offset')\n",
    "plt.ylabel('Bias ($C$) Towards \"Low\"')\n",
    "\n",
    "\n",
    "###\n",
    "# Sensitivity\n",
    "###\n",
    "\n",
    "plt.subplot(122)\n",
    "\n",
    "# Plot average d' per condition\n",
    "sns.lineplot(x='offset', y='dprime', hue='octave', data=within_scores,\n",
    "             hue_order=[3, 5], palette=[color1, color2],\n",
    "             ls='-', lw=lw, marker='o', ms=msize,\n",
    "             err_style='bars', err_kws=dict(capsize=capsize, lw=lw, capthick=lw))\n",
    "plt.axhline(0, ls='--', c='k', alpha=.5)\n",
    "\n",
    "\n",
    "# Stylize subplot\n",
    "plt.legend(['A3 (220 Hz)', 'A5 (880 Hz)'], title='Standard Pitch', loc='lower right', framealpha=1)\n",
    "plt.xlim(-20, 20)\n",
    "plt.xticks([-15, 0, 15], ['15% Early', 'On Time', '15% Late'])\n",
    "plt.ylim(-.5, 3)\n",
    "plt.xlabel('Probe Timing Offset')\n",
    "plt.ylabel('Sensitivity ($d\\prime$)')\n",
    "\n",
    "# Stylize figure and save\n",
    "plt.gcf().set_size_inches(9, 4)\n",
    "plt.tight_layout()\n",
    "plt.gcf().savefig(FIGURE_PATH + 'scores.svg')"
   ]
  },
  {
   "cell_type": "markdown",
   "id": "c60f89956c0303ba",
   "metadata": {},
   "source": [
    "### Plot reaction time"
   ]
  },
  {
   "cell_type": "code",
   "execution_count": null,
   "id": "290ac81da289f5da",
   "metadata": {},
   "outputs": [],
   "source": [
    "# Load trial data\n",
    "data = pd.read_csv(TRIAL_DATAFILE)\n",
    "data = data[~np.isin(data.subject, EXCLUDED)]\n",
    "\n",
    "# Exclude trials with reaction times slower than 10 seconds\n",
    "bad_rt = data.rt > 10000\n",
    "print('Excluding %s percent of trials for outlier RT' % (bad_rt.mean() * 100))\n",
    "data = data[~bad_rt]\n",
    "\n",
    "# Loftus & Masson (1994) method of plotting within-subject effects\n",
    "# For reaction time plots, we will analyze at the trial level rather than subject level due to some participants \n",
    "# having very few incorrect responses, giving us poor estimates of their mean reaction times for incorrect trials\n",
    "subj_means = data.groupby('subject').mean().reset_index()\n",
    "grand_mean = subj_means.mean()\n",
    "within_data = data.copy()\n",
    "for i, subj in enumerate(subj_means.subject):\n",
    "    within_data.loc[within_data.subject == subj, 'rt'] -= subj_means.rt[i] - grand_mean.rt\n",
    "\n",
    "# Stagger the x-axis values so error bars will be easier to read\n",
    "within_data.loc[within_data.pitch_shift == '+', 'offset'] -= .5\n",
    "within_data.loc[within_data.pitch_shift == '-', 'offset'] += .5"
   ]
  },
  {
   "cell_type": "code",
   "execution_count": null,
   "id": "2063b842-e64a-4281-9ef5-d04dd3dca10a",
   "metadata": {},
   "outputs": [],
   "source": [
    "plt.subplot(121)\n",
    "\n",
    "sns.lineplot(x='offset', y='rt', hue='pitch_shift', data=within_data[within_data['correct']],\n",
    "             ls='-', lw=lw, marker='o', ms=msize, hue_order=['+', '-'], palette=[color1, color2],\n",
    "             err_style='bars', err_kws=dict(capsize=capsize, lw=lw, capthick=lw))\n",
    "\n",
    "plt.title('Correct Response')\n",
    "plt.xlabel('Probe Timing Offset')\n",
    "plt.ylabel('Reaction Time (ms)')\n",
    "plt.legend(['Up', 'Down'], title='Pitch Shift', loc='upper left')\n",
    "plt.xlim(-20, 20)\n",
    "plt.xticks([-15, 0, 15], ['15% Early', 'On Time', '15% Late'])\n",
    "plt.ylim(700, 1300)\n",
    "\n",
    "plt.subplot(122)\n",
    "sns.lineplot(x='offset', y='rt', hue='pitch_shift', data=within_data[~within_data['correct']],\n",
    "             ls='-', lw=lw, marker='o', ms=msize, hue_order=['+', '-'], palette=[color1, color2],\n",
    "             err_style='bars', err_kws=dict(capsize=capsize, lw=lw, capthick=lw))\n",
    "\n",
    "# Stylize subplot\n",
    "plt.title('Incorrect Response')\n",
    "plt.xlabel('Probe Timing Offset')\n",
    "plt.ylabel('Reaction Time (ms)')\n",
    "plt.legend(['Up', 'Down'], title='Pitch Shift', loc='upper right')\n",
    "plt.xlim(-20, 20)\n",
    "plt.xticks([-15, 0, 15], ['15% Early', 'On Time', '15% Late'])\n",
    "plt.ylim(1000, 2000)\n",
    "\n",
    "# Stylize figure and save\n",
    "plt.gcf().set_size_inches(10, 4.5)\n",
    "plt.tight_layout()\n",
    "plt.gcf().savefig(FIGURE_PATH + 'rt.svg')"
   ]
  },
  {
   "cell_type": "markdown",
   "id": "b341c3d909073467",
   "metadata": {},
   "source": [
    "### Plot sensitivity and bias correlation"
   ]
  },
  {
   "cell_type": "code",
   "execution_count": null,
   "id": "42aaa02d7d251540",
   "metadata": {},
   "outputs": [],
   "source": [
    "# Load subject data\n",
    "sdata = pd.read_csv(SUBJ_SCORES_DATAFILE)\n",
    "sdata = sdata[~np.isin(sdata.subject, EXCLUDED)]"
   ]
  },
  {
   "cell_type": "code",
   "execution_count": null,
   "id": "48c48b5e6dc42383",
   "metadata": {},
   "outputs": [],
   "source": [
    "sns.regplot(x='dprime', y='C_slope', data=sdata, color=text_color)\n",
    "plt.axhline(y=0, linestyle='--', color=text_color, alpha=.5)\n",
    "r, p = stats.pearsonr(sdata.dprime, sdata.C_slope)\n",
    "plt.text(3, .1, '$r=%.03f$, $p=%.03f$' % (r, p))\n",
    "plt.xlabel('Sensitivity ($d\\prime$)')\n",
    "plt.ylabel('Timing-Related Bias')\n",
    "plt.ylim(-.03, .11)\n",
    "plt.gcf().set_size_inches(6, 4.5)\n",
    "plt.tight_layout()\n",
    "plt.savefig(FIGURE_PATH + 'correlation.svg')"
   ]
  },
  {
   "cell_type": "code",
   "execution_count": null,
   "id": "60f96aed4fa6b252",
   "metadata": {},
   "outputs": [],
   "source": []
  }
 ],
 "metadata": {
  "kernelspec": {
   "display_name": "Python 3 (ipykernel)",
   "language": "python",
   "name": "python3"
  },
  "language_info": {
   "codemirror_mode": {
    "name": "ipython",
    "version": 3
   },
   "file_extension": ".py",
   "mimetype": "text/x-python",
   "name": "python",
   "nbconvert_exporter": "python",
   "pygments_lexer": "ipython3",
   "version": "3.10.4"
  }
 },
 "nbformat": 4,
 "nbformat_minor": 5
}
