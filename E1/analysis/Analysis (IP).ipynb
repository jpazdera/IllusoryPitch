{
 "cells": [
  {
   "cell_type": "markdown",
   "id": "fe9592a0-9524-44a0-8272-7028ca2bca69",
   "metadata": {},
   "source": [
    "# Analysis: Illusory Pitch"
   ]
  },
  {
   "cell_type": "code",
   "id": "4f33d153-0e2b-49f4-9d07-a945bf9fcd5d",
   "metadata": {},
   "source": [
    "import pandas as pd\n",
    "import seaborn as sns\n",
    "import matplotlib\n",
    "import matplotlib.pyplot as plt\n",
    "\n",
    "# Set file paths\n",
    "TRIAL_DATAFILE = '../data/response_data.csv'\n",
    "SCORES_DATAFILE = '../data/scores.csv'\n",
    "FIGURE_PATH = './figures/'\n",
    "\n",
    "# Set colors\n",
    "color1 = '#512D6D'\n",
    "color2 = '#F8485E'\n",
    "\n",
    "# Set line widths\n",
    "lw = 1.5\n",
    "capsize = 3\n",
    "msize = 7\n",
    "\n",
    "# Set fonts\n",
    "small = 12\n",
    "medium = 16\n",
    "large = 20\n",
    "plt.rc('font', size=small)          # controls default text sizes\n",
    "plt.rc('axes', titlesize=large)     # fontsize of the axes title\n",
    "plt.rc('axes', labelsize=medium)    # fontsize of the x and y labels\n",
    "plt.rc('xtick', labelsize=small)    # fontsize of the tick labels\n",
    "plt.rc('ytick', labelsize=small)    # fontsize of the tick labels\n",
    "plt.rc('legend', fontsize=small)    # legend fontsize\n",
    "plt.rc('figure', titlesize=large)  # fontsize of the figure title\n",
    "matplotlib.rcParams['axes.spines.right'] = False\n",
    "matplotlib.rcParams['axes.spines.top'] = False"
   ],
   "outputs": [],
   "execution_count": null
  },
  {
   "cell_type": "markdown",
   "id": "857332cf-6307-48b4-b0b9-d7c0ba0b88c7",
   "metadata": {},
   "source": [
    "### Load and preprocess data"
   ]
  },
  {
   "cell_type": "code",
   "id": "cb3d096e-0a1f-45ea-954f-5d86a738f32f",
   "metadata": {},
   "source": [
    "# Load scores\n",
    "scores = pd.read_csv(SCORES_DATAFILE)\n",
    "\n",
    "# Loftus & Masson (1994) method of plotting within-subject effects\n",
    "subj_means = scores.groupby(['subject']).mean().reset_index()\n",
    "grand_mean = subj_means.mean()\n",
    "within_scores = scores.copy()\n",
    "for i, subj in enumerate(subj_means.subject):\n",
    "    within_scores.loc[within_scores.subject == subj, 'dprime'] -= subj_means.dprime[i] - grand_mean.dprime\n",
    "    within_scores.loc[within_scores.subject == subj, 'C'] -= subj_means.C[i] - grand_mean.C"
   ],
   "outputs": [],
   "execution_count": null
  },
  {
   "metadata": {},
   "cell_type": "code",
   "source": [
    "# Stagger the x-axis values so error bars will be easier to read\n",
    "within_scores.loc[within_scores.octave == 3, 'offset'] -= .5\n",
    "within_scores.loc[within_scores.octave == 5, 'offset'] += .5"
   ],
   "id": "d080593d3b8e7cb",
   "outputs": [],
   "execution_count": null
  },
  {
   "cell_type": "markdown",
   "id": "e6bdc053-a51e-4eb3-baea-af6055ff26b1",
   "metadata": {},
   "source": [
    "### Plot bias and sensitivity"
   ]
  },
  {
   "cell_type": "code",
   "id": "2e39a76e-5828-4490-80f7-a3a6a393f6a8",
   "metadata": {},
   "source": [
    "###\n",
    "# Bias\n",
    "###\n",
    "\n",
    "plt.subplot(121)\n",
    "\n",
    "# Plot average C per condition\n",
    "plt.axhline(0, ls='--', c='k', alpha=.5)\n",
    "sns.lineplot(x=within_scores.offset[within_scores.octave == 3]-.5, y='C', data=within_scores[within_scores.octave == 3],\n",
    "             ls='-', lw=lw, marker='o', ms=msize, color=color1, label='A3 (220 Hz)',\n",
    "             err_style='bars', err_kws=dict(capsize=capsize, lw=lw, capthick=lw))\n",
    "sns.lineplot(x=within_scores.offset[within_scores.octave == 5]+.5, y='C', data=within_scores[within_scores.octave == 5],\n",
    "             ls='-', lw=lw, marker='o', ms=msize, color=color2, label='A5 (880 Hz)',\n",
    "             err_style='bars', err_kws=dict(capsize=capsize, lw=lw, capthick=lw))\n",
    "\n",
    "# Stylize subplot\n",
    "plt.xlim(-20, 20)\n",
    "plt.xticks([-15, 0, 15], ['15% Early', 'On Time', '15% Late'])\n",
    "plt.ylim(-.6, 1)\n",
    "plt.xlabel('Probe Timing Offset')\n",
    "plt.ylabel('Bias ($C$) Towards \"Low\"')\n",
    "\n",
    "\n",
    "###\n",
    "# Sensitivity\n",
    "###\n",
    "\n",
    "plt.subplot(122)\n",
    "\n",
    "# Plot average d' per condition\n",
    "plt.axhline(0, ls='--', c='k', alpha=.5)\n",
    "sns.lineplot(x=within_scores.offset[within_scores.octave == 3]+.5, y='dprime', data=within_scores[within_scores.octave == 3],\n",
    "             ls='-', lw=lw, marker='o', ms=msize, color=color1, label='A3 (220 Hz)',\n",
    "             err_style='bars', err_kws=dict(capsize=capsize, lw=lw, capthick=lw))\n",
    "sns.lineplot(x=within_scores.offset[within_scores.octave == 5]-.5, y='dprime', data=within_scores[within_scores.octave == 5],\n",
    "             ls='-', lw=lw, marker='o', ms=msize, color=color2, label='A5 (880 Hz)',\n",
    "             err_style='bars', err_kws=dict(capsize=capsize, lw=lw, capthick=lw))\n",
    "\n",
    "# Sylize subplot\n",
    "plt.xlim(-20, 20)\n",
    "plt.xticks([-15, 0, 15], ['15% Early', 'On Time', '15% Late'])\n",
    "plt.ylim(-.5, 3)\n",
    "plt.xlabel('Probe Timing Offset')\n",
    "plt.ylabel('Sensitivity ($d\\prime$)')\n",
    "\n",
    "# Stylize figure and save\n",
    "plt.gcf().set_size_inches(9, 3.5)\n",
    "plt.tight_layout()\n",
    "plt.gcf().savefig(FIGURE_PATH + 'scores.svg')"
   ],
   "outputs": [],
   "execution_count": null
  },
  {
   "metadata": {},
   "cell_type": "code",
   "source": [
    "# Load trial data\n",
    "data = pd.read_csv(TRIAL_DATAFILE)"
   ],
   "id": "290ac81da289f5da",
   "outputs": [],
   "execution_count": null
  },
  {
   "metadata": {},
   "cell_type": "code",
   "source": [
    "# Exclude trials with reaction times slower than 10 seconds\n",
    "bad_rt = data.rt > 10000\n",
    "print('Excluding %s percent of trials for outlier RT' % (bad_rt.mean() * 100))\n",
    "data = data[~bad_rt]"
   ],
   "id": "7ad20db631d8f85c",
   "outputs": [],
   "execution_count": null
  },
  {
   "metadata": {},
   "cell_type": "code",
   "source": [
    "# Loftus & Masson (1994) method of plotting within-subject effects\n",
    "# For reaction time plots, we will analyze at the trial level rather than subject level due to some participants \n",
    "# having very few incorrect responses, giving us poor estimates of their mean reaction times for incorrect trials\n",
    "subj_means = data.groupby('subject').mean().reset_index()\n",
    "grand_mean = subj_means.mean()\n",
    "within_data = data.copy()\n",
    "for i, subj in enumerate(subj_means.subject):\n",
    "    within_data.loc[within_data.subject == subj, 'rt'] -= subj_means.rt[i] - grand_mean.rt"
   ],
   "id": "f0f4ac1d99cd18e1",
   "outputs": [],
   "execution_count": null
  },
  {
   "metadata": {},
   "cell_type": "code",
   "source": [
    "# Stagger the x-axis values so error bars will be easier to read\n",
    "within_data.loc[within_data.pitch_shift == '+', 'offset'] -= .5\n",
    "within_data.loc[within_data.pitch_shift == '-', 'offset'] += .5"
   ],
   "id": "17999d146fe513ce",
   "outputs": [],
   "execution_count": null
  },
  {
   "cell_type": "code",
   "id": "2063b842-e64a-4281-9ef5-d04dd3dca10a",
   "metadata": {},
   "source": [
    "plt.subplot(121)\n",
    "\n",
    "sns.lineplot(x='offset', y='rt', hue='pitch_shift', data=within_data[within_data['correct']],\n",
    "             ls='-', lw=lw, marker='o', ms=msize, hue_order=['+', '-'], palette=[color1, color2],\n",
    "             err_style='bars', err_kws=dict(capsize=capsize, lw=lw, capthick=lw))\n",
    "\n",
    "plt.title('Correct Response')\n",
    "plt.xlabel('Probe Timing Offset')\n",
    "plt.ylabel('Reaction Time (ms)')\n",
    "plt.legend(['Up', 'Down'], title='Pitch Shift', loc='upper left')\n",
    "plt.xlim(-20, 20)\n",
    "plt.xticks([-15, 0, 15], ['15% Early', 'On Time', '15% Late'])\n",
    "plt.ylim(800, 1200)\n",
    "\n",
    "plt.subplot(122)\n",
    "sns.lineplot(x='offset', y='rt', hue='pitch_shift', data=within_data[~within_data['correct']],\n",
    "             ls='-', lw=lw, marker='o', ms=msize, hue_order=['+', '-'], palette=[color1, color2],\n",
    "             err_style='bars', err_kws=dict(capsize=capsize, lw=lw, capthick=lw))\n",
    "\n",
    "# Stylize subplot\n",
    "plt.title('Incorrect Response')\n",
    "plt.xlabel('Probe Timing Offset')\n",
    "plt.ylabel('Reaction Time (ms)')\n",
    "plt.legend(['Up', 'Down'], title='Pitch Shift', loc='upper right')\n",
    "plt.xlim(-20, 20)\n",
    "plt.xticks([-15, 0, 15], ['15% Early', 'On Time', '15% Late'])\n",
    "plt.ylim(1000, 1800)\n",
    "\n",
    "# Stylize figure and save\n",
    "plt.gcf().set_size_inches(9, 4.5)\n",
    "plt.tight_layout()\n",
    "plt.gcf().savefig(FIGURE_PATH + 'rt.svg')"
   ],
   "outputs": [],
   "execution_count": null
  },
  {
   "metadata": {},
   "cell_type": "code",
   "source": "",
   "id": "42aaa02d7d251540",
   "outputs": [],
   "execution_count": null
  }
 ],
 "metadata": {
  "kernelspec": {
   "display_name": "Python 3 (ipykernel)",
   "language": "python",
   "name": "python3"
  },
  "language_info": {
   "codemirror_mode": {
    "name": "ipython",
    "version": 3
   },
   "file_extension": ".py",
   "mimetype": "text/x-python",
   "name": "python",
   "nbconvert_exporter": "python",
   "pygments_lexer": "ipython3",
   "version": "3.10.4"
  }
 },
 "nbformat": 4,
 "nbformat_minor": 5
}
